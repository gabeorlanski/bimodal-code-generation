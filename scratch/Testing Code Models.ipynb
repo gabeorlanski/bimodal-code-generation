{
 "cells": [
  {
   "cell_type": "code",
   "execution_count": 5,
   "id": "de2daa71-16f1-4197-91e3-ad46adc85956",
   "metadata": {},
   "outputs": [],
   "source": [
    "from transformers import AutoTokenizer, AutoModelForCausalLM\n",
    "import torch\n",
    "torch.cuda.empty_cache()\n",
    "device = torch.device('cuda')\n",
    "\n",
    "tokenizer = AutoTokenizer.from_pretrained(\"lvwerra/codeparrot-small\")\n",
    "model = AutoModelForCausalLM.from_pretrained(\"lvwerra/codeparrot-small\").to(device)"
   ]
  },
  {
   "cell_type": "code",
   "execution_count": 49,
   "id": "ec9fecbc-5dad-489d-82a2-db85aee768c7",
   "metadata": {},
   "outputs": [
    {
     "name": "stderr",
     "output_type": "stream",
     "text": [
      "Setting `pad_token_id` to `eos_token_id`:50256 for open-end generation.\n"
     ]
    },
    {
     "name": "stdout",
     "output_type": "stream",
     "text": [
      "Output:\n",
      "----------------------------------------------------------------------------------------------------\n",
      "0:   \n",
      "from typing import Mapping, Optional, Text\n",
      "\n",
      "import jax.numpy as jnp\n",
      "from jax.tree_util import tree_leaves\n",
      "from optax import sigmoid_binary_cross_entropy\n",
      "from ssljax.core import register\n",
      "from ssljax.losses.loss import Loss\n",
      "\n",
      "\n",
      "@register(Loss, \"infonce_loss\")\n",
      "def infonce_loss(\n",
      "    outs: Mapping[str, Mapping[str, jnp.ndarray]],\n",
      "    tau: float = 0.2,\n",
      "    reduction: Optional[Text] = \"mean\",\n",
      ") -> jnp.ndarray:\n",
      "    \"\"\"\n",
      "    Compute MoCo v3 loss.\n",
      "    Args:\n",
      "        outs (Mapping[str, Mapping[str, jnp.ndarray]]): model output\n",
      "    \"\"\"\n",
      "#     if outs is None:\n",
      "#         outs = {}\n",
      "#         outs[\"mse\"] = jnp.mean(outs.values()) \n",
      "\n",
      "\n",
      "@register(Loss, \"hinge\")\n",
      "def hinge_loss(\n",
      "    outs: Mapping[str, Mapping[str, jnp.ndarray]],\n",
      "    tau: float = 0.2,\n",
      "    reduction: Optional[Text] = \"mean\",\n",
      ") -> jnp.ndarray:\n",
      "    \"\"\"\n",
      "\n",
      "\n",
      "1:   \n",
      "from typing import Mapping, Optional, Text\n",
      "\n",
      "import jax.numpy as jnp\n",
      "from jax.tree_util import tree_leaves\n",
      "from optax import sigmoid_binary_cross_entropy\n",
      "from ssljax.core import register\n",
      "from ssljax.losses.loss import Loss\n",
      "\n",
      "\n",
      "@register(Loss, \"infonce_loss\")\n",
      "def infonce_loss(\n",
      "    outs: Mapping[str, Mapping[str, jnp.ndarray]],\n",
      "    tau: float = 0.2,\n",
      "    reduction: Optional[Text] = \"mean\",\n",
      ") -> jnp.ndarray:\n",
      "    \"\"\"\n",
      "    Compute MoCo v3 loss.\n",
      "    Args:\n",
      "        outs (Mapping[str, Mapping[str, jnp.ndarray]]): model output\n",
      "    \"\"\"\n",
      "\n",
      "@register(Loss, \"log_likelihood\")\n",
      "def log_likelihood(outs: Mapping[str, Mapping[str, jnp.ndarray]], tau: float = 0.5) -> jnp.ndarray:\n",
      "    \"\"\"\n",
      "    Computes the log likelihood. \n",
      "    Args:\n",
      "        outs (Mapping[str, Mapping[str, jnp.ndarray]]): model output\n",
      "        tau (float):  threshold for the marginal likelihood\n",
      "    \"\"\"\n",
      "\n",
      "@register\n",
      "\n",
      "\n",
      "2:   \n",
      "from typing import Mapping, Optional, Text\n",
      "\n",
      "import jax.numpy as jnp\n",
      "from jax.tree_util import tree_leaves\n",
      "from optax import sigmoid_binary_cross_entropy\n",
      "from ssljax.core import register\n",
      "from ssljax.losses.loss import Loss\n",
      "\n",
      "\n",
      "@register(Loss, \"infonce_loss\")\n",
      "def infonce_loss(\n",
      "    outs: Mapping[str, Mapping[str, jnp.ndarray]],\n",
      "    tau: float = 0.2,\n",
      "    reduction: Optional[Text] = \"mean\",\n",
      ") -> jnp.ndarray:\n",
      "    \"\"\"\n",
      "    Compute MoCo v3 loss.\n",
      "    Args:\n",
      "        outs (Mapping[str, Mapping[str, jnp.ndarray]]): model output\n",
      "    \"\"\"\n",
      "#     print(\"  outs={0}\".format(outs))\n",
      "#     print(\"  tau={0}\".format(tau))\n",
      "#     assert outs[0][0].shape[1] == outs[0][1].shape[1]\n",
      "#     assert np.allclose(outs[0][1], outs[0][0].T).all()\n",
      "    return outs[0].T\n",
      "\n",
      "def compute_v3_kl_loss\n",
      "\n",
      "\n"
     ]
    }
   ],
   "source": [
    "test_input ='''  \n",
    "GIVE_\n",
    "'''\n",
    "\n",
    "input_ids = tokenizer(test_input, return_tensors=\"pt\")['input_ids'].to(device)\n",
    "sample_outputs=  model.generate(\n",
    "    input_ids,\n",
    "    do_sample=True, \n",
    "    max_length=256,\n",
    "#     top_k=75,\n",
    "#     top_p=.95,\n",
    "#     temperature=1.5,\n",
    "    num_return_sequences=3\n",
    ")\n",
    "print(\"Output:\\n\" + 100 * '-')\n",
    "for i, sample_output in enumerate(sample_outputs):\n",
    "    print(\"{}: {}\\n\\n\".format(i, tokenizer.decode(sample_output, skip_special_tokens=True)))\n"
   ]
  },
  {
   "cell_type": "code",
   "execution_count": 37,
   "id": "8b02577b-fbc8-45ff-8cf7-d5a4358f0027",
   "metadata": {},
   "outputs": [
    {
     "data": {
      "text/plain": [
       "torch.Size([314])"
      ]
     },
     "execution_count": 37,
     "metadata": {},
     "output_type": "execute_result"
    }
   ],
   "source": []
  },
  {
   "cell_type": "code",
   "execution_count": 36,
   "id": "5322de5d-3dbd-4f8d-b2b1-b03cfa762d2a",
   "metadata": {},
   "outputs": [
    {
     "data": {
      "text/plain": [
       "198"
      ]
     },
     "execution_count": 36,
     "metadata": {},
     "output_type": "execute_result"
    }
   ],
   "source": []
  },
  {
   "cell_type": "code",
   "execution_count": null,
   "id": "70b4d094-70d5-4541-afa2-a225cef7b029",
   "metadata": {},
   "outputs": [],
   "source": []
  }
 ],
 "metadata": {
  "kernelspec": {
   "display_name": "spring-research",
   "language": "python",
   "name": "spring-research"
  },
  "language_info": {
   "codemirror_mode": {
    "name": "ipython",
    "version": 3
   },
   "file_extension": ".py",
   "mimetype": "text/x-python",
   "name": "python",
   "nbconvert_exporter": "python",
   "pygments_lexer": "ipython3",
   "version": "3.8.12"
  }
 },
 "nbformat": 4,
 "nbformat_minor": 5
}
